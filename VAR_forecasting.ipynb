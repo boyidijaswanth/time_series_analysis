{
 "cells": [
  {
   "cell_type": "code",
   "execution_count": 232,
   "metadata": {},
   "outputs": [],
   "source": [
    "import numpy as np"
   ]
  },
  {
   "cell_type": "code",
   "execution_count": 233,
   "metadata": {},
   "outputs": [],
   "source": [
    "import pandas"
   ]
  },
  {
   "cell_type": "code",
   "execution_count": 234,
   "metadata": {},
   "outputs": [],
   "source": [
    "import statsmodels.api as sm"
   ]
  },
  {
   "cell_type": "code",
   "execution_count": 235,
   "metadata": {},
   "outputs": [],
   "source": [
    "from statsmodels.tsa.api import VAR, DynamicVAR"
   ]
  },
  {
   "cell_type": "code",
   "execution_count": 236,
   "metadata": {},
   "outputs": [],
   "source": [
    "import pandas as pd"
   ]
  },
  {
   "cell_type": "code",
   "execution_count": 237,
   "metadata": {},
   "outputs": [],
   "source": [
    "import time\n",
    "import warnings\n",
    "import datetime"
   ]
  },
  {
   "cell_type": "code",
   "execution_count": 238,
   "metadata": {},
   "outputs": [],
   "source": [
    "warnings.filterwarnings(\"ignore\")"
   ]
  },
  {
   "cell_type": "code",
   "execution_count": 274,
   "metadata": {},
   "outputs": [],
   "source": [
    "mdata = pd.read_csv('day_data.csv')"
   ]
  },
  {
   "cell_type": "code",
   "execution_count": 275,
   "metadata": {},
   "outputs": [
    {
     "data": {
      "text/html": [
       "<div>\n",
       "<style scoped>\n",
       "    .dataframe tbody tr th:only-of-type {\n",
       "        vertical-align: middle;\n",
       "    }\n",
       "\n",
       "    .dataframe tbody tr th {\n",
       "        vertical-align: top;\n",
       "    }\n",
       "\n",
       "    .dataframe thead th {\n",
       "        text-align: right;\n",
       "    }\n",
       "</style>\n",
       "<table border=\"1\" class=\"dataframe\">\n",
       "  <thead>\n",
       "    <tr style=\"text-align: right;\">\n",
       "      <th></th>\n",
       "      <th>date</th>\n",
       "      <th>voltage</th>\n",
       "      <th>amp</th>\n",
       "      <th>pf</th>\n",
       "      <th>consumption</th>\n",
       "      <th>energy_timestamp</th>\n",
       "      <th>frequency</th>\n",
       "      <th>meter_id</th>\n",
       "      <th>thd</th>\n",
       "    </tr>\n",
       "  </thead>\n",
       "  <tbody>\n",
       "    <tr>\n",
       "      <th>0</th>\n",
       "      <td>1</td>\n",
       "      <td>245.571127</td>\n",
       "      <td>2.454502</td>\n",
       "      <td>0.997741</td>\n",
       "      <td>569.9396</td>\n",
       "      <td>1538006400</td>\n",
       "      <td>49.0</td>\n",
       "      <td>9</td>\n",
       "      <td>0</td>\n",
       "    </tr>\n",
       "    <tr>\n",
       "      <th>1</th>\n",
       "      <td>2</td>\n",
       "      <td>241.921330</td>\n",
       "      <td>13.215324</td>\n",
       "      <td>0.998644</td>\n",
       "      <td>0.0000</td>\n",
       "      <td>1538092800</td>\n",
       "      <td>49.0</td>\n",
       "      <td>9</td>\n",
       "      <td>0</td>\n",
       "    </tr>\n",
       "    <tr>\n",
       "      <th>2</th>\n",
       "      <td>3</td>\n",
       "      <td>236.583467</td>\n",
       "      <td>11.028691</td>\n",
       "      <td>0.998407</td>\n",
       "      <td>2493.7696</td>\n",
       "      <td>1538352000</td>\n",
       "      <td>49.0</td>\n",
       "      <td>9</td>\n",
       "      <td>0</td>\n",
       "    </tr>\n",
       "    <tr>\n",
       "      <th>3</th>\n",
       "      <td>4</td>\n",
       "      <td>243.343959</td>\n",
       "      <td>0.416946</td>\n",
       "      <td>0.998838</td>\n",
       "      <td>0.0000</td>\n",
       "      <td>1538179200</td>\n",
       "      <td>49.0</td>\n",
       "      <td>9</td>\n",
       "      <td>0</td>\n",
       "    </tr>\n",
       "    <tr>\n",
       "      <th>4</th>\n",
       "      <td>5</td>\n",
       "      <td>241.336195</td>\n",
       "      <td>11.995822</td>\n",
       "      <td>0.998872</td>\n",
       "      <td>2670.2403</td>\n",
       "      <td>1538524800</td>\n",
       "      <td>49.0</td>\n",
       "      <td>9</td>\n",
       "      <td>0</td>\n",
       "    </tr>\n",
       "  </tbody>\n",
       "</table>\n",
       "</div>"
      ],
      "text/plain": [
       "   date     voltage        amp        pf  consumption  energy_timestamp  \\\n",
       "0     1  245.571127   2.454502  0.997741     569.9396        1538006400   \n",
       "1     2  241.921330  13.215324  0.998644       0.0000        1538092800   \n",
       "2     3  236.583467  11.028691  0.998407    2493.7696        1538352000   \n",
       "3     4  243.343959   0.416946  0.998838       0.0000        1538179200   \n",
       "4     5  241.336195  11.995822  0.998872    2670.2403        1538524800   \n",
       "\n",
       "   frequency  meter_id  thd  \n",
       "0       49.0         9    0  \n",
       "1       49.0         9    0  \n",
       "2       49.0         9    0  \n",
       "3       49.0         9    0  \n",
       "4       49.0         9    0  "
      ]
     },
     "execution_count": 275,
     "metadata": {},
     "output_type": "execute_result"
    }
   ],
   "source": [
    "mdata.head()"
   ]
  },
  {
   "cell_type": "code",
   "execution_count": 276,
   "metadata": {},
   "outputs": [
    {
     "data": {
      "text/plain": [
       "date                  int64\n",
       "voltage             float64\n",
       "amp                 float64\n",
       "pf                  float64\n",
       "consumption         float64\n",
       "energy_timestamp      int64\n",
       "frequency           float64\n",
       "meter_id              int64\n",
       "thd                   int64\n",
       "dtype: object"
      ]
     },
     "execution_count": 276,
     "metadata": {},
     "output_type": "execute_result"
    }
   ],
   "source": [
    "mdata.dtypes"
   ]
  },
  {
   "cell_type": "code",
   "execution_count": 277,
   "metadata": {},
   "outputs": [],
   "source": [
    "mdata['date']=(mdata['date']*86400)"
   ]
  },
  {
   "cell_type": "code",
   "execution_count": 278,
   "metadata": {},
   "outputs": [],
   "source": [
    "dates=[]\n",
    "months=[]\n",
    "years=[]\n",
    "dayofweeks=[]\n",
    "weekofmonths=[]\n",
    "weekofyears=[]\n",
    "timestamps=[]"
   ]
  },
  {
   "cell_type": "code",
   "execution_count": 279,
   "metadata": {},
   "outputs": [],
   "source": [
    "for i in mdata['energy_timestamp']:\n",
    "    k=int(time.strftime('%d', time.localtime(i)))\n",
    "    dates.append(k)\n",
    "    months.append(int(time.strftime('%m', time.localtime(i))))\n",
    "    years.append(int(time.strftime('%Y', time.localtime(i))))\n",
    "    dayofweeks.append(int(time.strftime('%w', time.localtime(i))))\n",
    "    weekofmonths.append((k/7)+1)\n",
    "    weekofyears.append(int(time.strftime('%U', time.localtime(i))))\n",
    "    timestamps.append(time.strftime('%Y-%m-%d',time.localtime(i)))"
   ]
  },
  {
   "cell_type": "code",
   "execution_count": 280,
   "metadata": {},
   "outputs": [],
   "source": [
    "mdata['dateofmonth']=dates\n",
    "mdata['month']=months\n",
    "mdata['year']=years\n",
    "mdata['dayofweek']=dayofweeks\n",
    "mdata['weekofmonths']=weekofmonths\n",
    "mdata['weekofyears']=weekofyears\n",
    "mdata['date']=timestamps"
   ]
  },
  {
   "cell_type": "code",
   "execution_count": 281,
   "metadata": {},
   "outputs": [
    {
     "data": {
      "text/html": [
       "<div>\n",
       "<style scoped>\n",
       "    .dataframe tbody tr th:only-of-type {\n",
       "        vertical-align: middle;\n",
       "    }\n",
       "\n",
       "    .dataframe tbody tr th {\n",
       "        vertical-align: top;\n",
       "    }\n",
       "\n",
       "    .dataframe thead th {\n",
       "        text-align: right;\n",
       "    }\n",
       "</style>\n",
       "<table border=\"1\" class=\"dataframe\">\n",
       "  <thead>\n",
       "    <tr style=\"text-align: right;\">\n",
       "      <th></th>\n",
       "      <th>date</th>\n",
       "      <th>voltage</th>\n",
       "      <th>amp</th>\n",
       "      <th>pf</th>\n",
       "      <th>consumption</th>\n",
       "      <th>energy_timestamp</th>\n",
       "      <th>frequency</th>\n",
       "      <th>meter_id</th>\n",
       "      <th>thd</th>\n",
       "      <th>dateofmonth</th>\n",
       "      <th>month</th>\n",
       "      <th>year</th>\n",
       "      <th>dayofweek</th>\n",
       "      <th>weekofmonths</th>\n",
       "      <th>weekofyears</th>\n",
       "    </tr>\n",
       "  </thead>\n",
       "  <tbody>\n",
       "    <tr>\n",
       "      <th>0</th>\n",
       "      <td>2018-09-27</td>\n",
       "      <td>245.571127</td>\n",
       "      <td>2.454502</td>\n",
       "      <td>0.997741</td>\n",
       "      <td>569.9396</td>\n",
       "      <td>1538006400</td>\n",
       "      <td>49.0</td>\n",
       "      <td>9</td>\n",
       "      <td>0</td>\n",
       "      <td>27</td>\n",
       "      <td>9</td>\n",
       "      <td>2018</td>\n",
       "      <td>4</td>\n",
       "      <td>4.857143</td>\n",
       "      <td>38</td>\n",
       "    </tr>\n",
       "    <tr>\n",
       "      <th>1</th>\n",
       "      <td>2018-09-28</td>\n",
       "      <td>241.921330</td>\n",
       "      <td>13.215324</td>\n",
       "      <td>0.998644</td>\n",
       "      <td>0.0000</td>\n",
       "      <td>1538092800</td>\n",
       "      <td>49.0</td>\n",
       "      <td>9</td>\n",
       "      <td>0</td>\n",
       "      <td>28</td>\n",
       "      <td>9</td>\n",
       "      <td>2018</td>\n",
       "      <td>5</td>\n",
       "      <td>5.000000</td>\n",
       "      <td>38</td>\n",
       "    </tr>\n",
       "    <tr>\n",
       "      <th>2</th>\n",
       "      <td>2018-10-01</td>\n",
       "      <td>236.583467</td>\n",
       "      <td>11.028691</td>\n",
       "      <td>0.998407</td>\n",
       "      <td>2493.7696</td>\n",
       "      <td>1538352000</td>\n",
       "      <td>49.0</td>\n",
       "      <td>9</td>\n",
       "      <td>0</td>\n",
       "      <td>1</td>\n",
       "      <td>10</td>\n",
       "      <td>2018</td>\n",
       "      <td>1</td>\n",
       "      <td>1.142857</td>\n",
       "      <td>39</td>\n",
       "    </tr>\n",
       "    <tr>\n",
       "      <th>3</th>\n",
       "      <td>2018-09-29</td>\n",
       "      <td>243.343959</td>\n",
       "      <td>0.416946</td>\n",
       "      <td>0.998838</td>\n",
       "      <td>0.0000</td>\n",
       "      <td>1538179200</td>\n",
       "      <td>49.0</td>\n",
       "      <td>9</td>\n",
       "      <td>0</td>\n",
       "      <td>29</td>\n",
       "      <td>9</td>\n",
       "      <td>2018</td>\n",
       "      <td>6</td>\n",
       "      <td>5.142857</td>\n",
       "      <td>38</td>\n",
       "    </tr>\n",
       "    <tr>\n",
       "      <th>4</th>\n",
       "      <td>2018-10-03</td>\n",
       "      <td>241.336195</td>\n",
       "      <td>11.995822</td>\n",
       "      <td>0.998872</td>\n",
       "      <td>2670.2403</td>\n",
       "      <td>1538524800</td>\n",
       "      <td>49.0</td>\n",
       "      <td>9</td>\n",
       "      <td>0</td>\n",
       "      <td>3</td>\n",
       "      <td>10</td>\n",
       "      <td>2018</td>\n",
       "      <td>3</td>\n",
       "      <td>1.428571</td>\n",
       "      <td>39</td>\n",
       "    </tr>\n",
       "  </tbody>\n",
       "</table>\n",
       "</div>"
      ],
      "text/plain": [
       "         date     voltage        amp        pf  consumption  energy_timestamp  \\\n",
       "0  2018-09-27  245.571127   2.454502  0.997741     569.9396        1538006400   \n",
       "1  2018-09-28  241.921330  13.215324  0.998644       0.0000        1538092800   \n",
       "2  2018-10-01  236.583467  11.028691  0.998407    2493.7696        1538352000   \n",
       "3  2018-09-29  243.343959   0.416946  0.998838       0.0000        1538179200   \n",
       "4  2018-10-03  241.336195  11.995822  0.998872    2670.2403        1538524800   \n",
       "\n",
       "   frequency  meter_id  thd  dateofmonth  month  year  dayofweek  \\\n",
       "0       49.0         9    0           27      9  2018          4   \n",
       "1       49.0         9    0           28      9  2018          5   \n",
       "2       49.0         9    0            1     10  2018          1   \n",
       "3       49.0         9    0           29      9  2018          6   \n",
       "4       49.0         9    0            3     10  2018          3   \n",
       "\n",
       "   weekofmonths  weekofyears  \n",
       "0      4.857143           38  \n",
       "1      5.000000           38  \n",
       "2      1.142857           39  \n",
       "3      5.142857           38  \n",
       "4      1.428571           39  "
      ]
     },
     "execution_count": 281,
     "metadata": {},
     "output_type": "execute_result"
    }
   ],
   "source": [
    "mdata.head()"
   ]
  },
  {
   "cell_type": "code",
   "execution_count": 282,
   "metadata": {},
   "outputs": [
    {
     "data": {
      "text/plain": [
       "date                 object\n",
       "voltage             float64\n",
       "amp                 float64\n",
       "pf                  float64\n",
       "consumption         float64\n",
       "energy_timestamp      int64\n",
       "frequency           float64\n",
       "meter_id              int64\n",
       "thd                   int64\n",
       "dateofmonth           int64\n",
       "month                 int64\n",
       "year                  int64\n",
       "dayofweek             int64\n",
       "weekofmonths        float64\n",
       "weekofyears           int64\n",
       "dtype: object"
      ]
     },
     "execution_count": 282,
     "metadata": {},
     "output_type": "execute_result"
    }
   ],
   "source": [
    "mdata.dtypes"
   ]
  },
  {
   "cell_type": "code",
   "execution_count": 283,
   "metadata": {},
   "outputs": [],
   "source": [
    "data = mdata.drop(['date'], axis=1)"
   ]
  },
  {
   "cell_type": "code",
   "execution_count": 284,
   "metadata": {},
   "outputs": [],
   "source": [
    "\n",
    "data.index = mdata.date"
   ]
  },
  {
   "cell_type": "code",
   "execution_count": 285,
   "metadata": {},
   "outputs": [],
   "source": [
    "\n",
    "data=data.drop(['meter_id'],axis=1)\n",
    "data=data.drop(['thd'],axis=1)"
   ]
  },
  {
   "cell_type": "code",
   "execution_count": 286,
   "metadata": {},
   "outputs": [
    {
     "data": {
      "text/html": [
       "<div>\n",
       "<style scoped>\n",
       "    .dataframe tbody tr th:only-of-type {\n",
       "        vertical-align: middle;\n",
       "    }\n",
       "\n",
       "    .dataframe tbody tr th {\n",
       "        vertical-align: top;\n",
       "    }\n",
       "\n",
       "    .dataframe thead th {\n",
       "        text-align: right;\n",
       "    }\n",
       "</style>\n",
       "<table border=\"1\" class=\"dataframe\">\n",
       "  <thead>\n",
       "    <tr style=\"text-align: right;\">\n",
       "      <th></th>\n",
       "      <th>voltage</th>\n",
       "      <th>amp</th>\n",
       "      <th>pf</th>\n",
       "      <th>consumption</th>\n",
       "      <th>energy_timestamp</th>\n",
       "      <th>frequency</th>\n",
       "      <th>dateofmonth</th>\n",
       "      <th>month</th>\n",
       "      <th>year</th>\n",
       "      <th>dayofweek</th>\n",
       "      <th>weekofmonths</th>\n",
       "      <th>weekofyears</th>\n",
       "    </tr>\n",
       "    <tr>\n",
       "      <th>date</th>\n",
       "      <th></th>\n",
       "      <th></th>\n",
       "      <th></th>\n",
       "      <th></th>\n",
       "      <th></th>\n",
       "      <th></th>\n",
       "      <th></th>\n",
       "      <th></th>\n",
       "      <th></th>\n",
       "      <th></th>\n",
       "      <th></th>\n",
       "      <th></th>\n",
       "    </tr>\n",
       "  </thead>\n",
       "  <tbody>\n",
       "    <tr>\n",
       "      <th>2018-09-27</th>\n",
       "      <td>245.571127</td>\n",
       "      <td>2.454502</td>\n",
       "      <td>0.997741</td>\n",
       "      <td>569.9396</td>\n",
       "      <td>1538006400</td>\n",
       "      <td>49.0</td>\n",
       "      <td>27</td>\n",
       "      <td>9</td>\n",
       "      <td>2018</td>\n",
       "      <td>4</td>\n",
       "      <td>4.857143</td>\n",
       "      <td>38</td>\n",
       "    </tr>\n",
       "    <tr>\n",
       "      <th>2018-09-28</th>\n",
       "      <td>241.921330</td>\n",
       "      <td>13.215324</td>\n",
       "      <td>0.998644</td>\n",
       "      <td>0.0000</td>\n",
       "      <td>1538092800</td>\n",
       "      <td>49.0</td>\n",
       "      <td>28</td>\n",
       "      <td>9</td>\n",
       "      <td>2018</td>\n",
       "      <td>5</td>\n",
       "      <td>5.000000</td>\n",
       "      <td>38</td>\n",
       "    </tr>\n",
       "    <tr>\n",
       "      <th>2018-10-01</th>\n",
       "      <td>236.583467</td>\n",
       "      <td>11.028691</td>\n",
       "      <td>0.998407</td>\n",
       "      <td>2493.7696</td>\n",
       "      <td>1538352000</td>\n",
       "      <td>49.0</td>\n",
       "      <td>1</td>\n",
       "      <td>10</td>\n",
       "      <td>2018</td>\n",
       "      <td>1</td>\n",
       "      <td>1.142857</td>\n",
       "      <td>39</td>\n",
       "    </tr>\n",
       "    <tr>\n",
       "      <th>2018-09-29</th>\n",
       "      <td>243.343959</td>\n",
       "      <td>0.416946</td>\n",
       "      <td>0.998838</td>\n",
       "      <td>0.0000</td>\n",
       "      <td>1538179200</td>\n",
       "      <td>49.0</td>\n",
       "      <td>29</td>\n",
       "      <td>9</td>\n",
       "      <td>2018</td>\n",
       "      <td>6</td>\n",
       "      <td>5.142857</td>\n",
       "      <td>38</td>\n",
       "    </tr>\n",
       "    <tr>\n",
       "      <th>2018-10-03</th>\n",
       "      <td>241.336195</td>\n",
       "      <td>11.995822</td>\n",
       "      <td>0.998872</td>\n",
       "      <td>2670.2403</td>\n",
       "      <td>1538524800</td>\n",
       "      <td>49.0</td>\n",
       "      <td>3</td>\n",
       "      <td>10</td>\n",
       "      <td>2018</td>\n",
       "      <td>3</td>\n",
       "      <td>1.428571</td>\n",
       "      <td>39</td>\n",
       "    </tr>\n",
       "  </tbody>\n",
       "</table>\n",
       "</div>"
      ],
      "text/plain": [
       "               voltage        amp        pf  consumption  energy_timestamp  \\\n",
       "date                                                                         \n",
       "2018-09-27  245.571127   2.454502  0.997741     569.9396        1538006400   \n",
       "2018-09-28  241.921330  13.215324  0.998644       0.0000        1538092800   \n",
       "2018-10-01  236.583467  11.028691  0.998407    2493.7696        1538352000   \n",
       "2018-09-29  243.343959   0.416946  0.998838       0.0000        1538179200   \n",
       "2018-10-03  241.336195  11.995822  0.998872    2670.2403        1538524800   \n",
       "\n",
       "            frequency  dateofmonth  month  year  dayofweek  weekofmonths  \\\n",
       "date                                                                       \n",
       "2018-09-27       49.0           27      9  2018          4      4.857143   \n",
       "2018-09-28       49.0           28      9  2018          5      5.000000   \n",
       "2018-10-01       49.0            1     10  2018          1      1.142857   \n",
       "2018-09-29       49.0           29      9  2018          6      5.142857   \n",
       "2018-10-03       49.0            3     10  2018          3      1.428571   \n",
       "\n",
       "            weekofyears  \n",
       "date                     \n",
       "2018-09-27           38  \n",
       "2018-09-28           38  \n",
       "2018-10-01           39  \n",
       "2018-09-29           38  \n",
       "2018-10-03           39  "
      ]
     },
     "execution_count": 286,
     "metadata": {},
     "output_type": "execute_result"
    }
   ],
   "source": [
    "data.head()"
   ]
  },
  {
   "cell_type": "code",
   "execution_count": 287,
   "metadata": {},
   "outputs": [
    {
     "data": {
      "text/plain": [
       "voltage             float64\n",
       "amp                 float64\n",
       "pf                  float64\n",
       "consumption         float64\n",
       "energy_timestamp      int64\n",
       "frequency           float64\n",
       "dateofmonth           int64\n",
       "month                 int64\n",
       "year                  int64\n",
       "dayofweek             int64\n",
       "weekofmonths        float64\n",
       "weekofyears           int64\n",
       "dtype: object"
      ]
     },
     "execution_count": 287,
     "metadata": {},
     "output_type": "execute_result"
    }
   ],
   "source": [
    "data.dtypes"
   ]
  },
  {
   "cell_type": "code",
   "execution_count": 288,
   "metadata": {},
   "outputs": [],
   "source": [
    "data.dropna(inplace=True)"
   ]
  },
  {
   "cell_type": "code",
   "execution_count": 289,
   "metadata": {},
   "outputs": [
    {
     "data": {
      "text/html": [
       "<div>\n",
       "<style scoped>\n",
       "    .dataframe tbody tr th:only-of-type {\n",
       "        vertical-align: middle;\n",
       "    }\n",
       "\n",
       "    .dataframe tbody tr th {\n",
       "        vertical-align: top;\n",
       "    }\n",
       "\n",
       "    .dataframe thead th {\n",
       "        text-align: right;\n",
       "    }\n",
       "</style>\n",
       "<table border=\"1\" class=\"dataframe\">\n",
       "  <thead>\n",
       "    <tr style=\"text-align: right;\">\n",
       "      <th></th>\n",
       "      <th>voltage</th>\n",
       "      <th>amp</th>\n",
       "      <th>pf</th>\n",
       "      <th>consumption</th>\n",
       "      <th>energy_timestamp</th>\n",
       "      <th>frequency</th>\n",
       "      <th>dateofmonth</th>\n",
       "      <th>month</th>\n",
       "      <th>year</th>\n",
       "      <th>dayofweek</th>\n",
       "      <th>weekofmonths</th>\n",
       "      <th>weekofyears</th>\n",
       "    </tr>\n",
       "    <tr>\n",
       "      <th>date</th>\n",
       "      <th></th>\n",
       "      <th></th>\n",
       "      <th></th>\n",
       "      <th></th>\n",
       "      <th></th>\n",
       "      <th></th>\n",
       "      <th></th>\n",
       "      <th></th>\n",
       "      <th></th>\n",
       "      <th></th>\n",
       "      <th></th>\n",
       "      <th></th>\n",
       "    </tr>\n",
       "  </thead>\n",
       "  <tbody>\n",
       "    <tr>\n",
       "      <th>2018-09-27</th>\n",
       "      <td>245.571127</td>\n",
       "      <td>2.454502</td>\n",
       "      <td>0.997741</td>\n",
       "      <td>569.9396</td>\n",
       "      <td>1538006400</td>\n",
       "      <td>49.0</td>\n",
       "      <td>27</td>\n",
       "      <td>9</td>\n",
       "      <td>2018</td>\n",
       "      <td>4</td>\n",
       "      <td>4.857143</td>\n",
       "      <td>38</td>\n",
       "    </tr>\n",
       "    <tr>\n",
       "      <th>2018-09-28</th>\n",
       "      <td>241.921330</td>\n",
       "      <td>13.215324</td>\n",
       "      <td>0.998644</td>\n",
       "      <td>0.0000</td>\n",
       "      <td>1538092800</td>\n",
       "      <td>49.0</td>\n",
       "      <td>28</td>\n",
       "      <td>9</td>\n",
       "      <td>2018</td>\n",
       "      <td>5</td>\n",
       "      <td>5.000000</td>\n",
       "      <td>38</td>\n",
       "    </tr>\n",
       "    <tr>\n",
       "      <th>2018-10-01</th>\n",
       "      <td>236.583467</td>\n",
       "      <td>11.028691</td>\n",
       "      <td>0.998407</td>\n",
       "      <td>2493.7696</td>\n",
       "      <td>1538352000</td>\n",
       "      <td>49.0</td>\n",
       "      <td>1</td>\n",
       "      <td>10</td>\n",
       "      <td>2018</td>\n",
       "      <td>1</td>\n",
       "      <td>1.142857</td>\n",
       "      <td>39</td>\n",
       "    </tr>\n",
       "    <tr>\n",
       "      <th>2018-09-29</th>\n",
       "      <td>243.343959</td>\n",
       "      <td>0.416946</td>\n",
       "      <td>0.998838</td>\n",
       "      <td>0.0000</td>\n",
       "      <td>1538179200</td>\n",
       "      <td>49.0</td>\n",
       "      <td>29</td>\n",
       "      <td>9</td>\n",
       "      <td>2018</td>\n",
       "      <td>6</td>\n",
       "      <td>5.142857</td>\n",
       "      <td>38</td>\n",
       "    </tr>\n",
       "    <tr>\n",
       "      <th>2018-10-03</th>\n",
       "      <td>241.336195</td>\n",
       "      <td>11.995822</td>\n",
       "      <td>0.998872</td>\n",
       "      <td>2670.2403</td>\n",
       "      <td>1538524800</td>\n",
       "      <td>49.0</td>\n",
       "      <td>3</td>\n",
       "      <td>10</td>\n",
       "      <td>2018</td>\n",
       "      <td>3</td>\n",
       "      <td>1.428571</td>\n",
       "      <td>39</td>\n",
       "    </tr>\n",
       "  </tbody>\n",
       "</table>\n",
       "</div>"
      ],
      "text/plain": [
       "               voltage        amp        pf  consumption  energy_timestamp  \\\n",
       "date                                                                         \n",
       "2018-09-27  245.571127   2.454502  0.997741     569.9396        1538006400   \n",
       "2018-09-28  241.921330  13.215324  0.998644       0.0000        1538092800   \n",
       "2018-10-01  236.583467  11.028691  0.998407    2493.7696        1538352000   \n",
       "2018-09-29  243.343959   0.416946  0.998838       0.0000        1538179200   \n",
       "2018-10-03  241.336195  11.995822  0.998872    2670.2403        1538524800   \n",
       "\n",
       "            frequency  dateofmonth  month  year  dayofweek  weekofmonths  \\\n",
       "date                                                                       \n",
       "2018-09-27       49.0           27      9  2018          4      4.857143   \n",
       "2018-09-28       49.0           28      9  2018          5      5.000000   \n",
       "2018-10-01       49.0            1     10  2018          1      1.142857   \n",
       "2018-09-29       49.0           29      9  2018          6      5.142857   \n",
       "2018-10-03       49.0            3     10  2018          3      1.428571   \n",
       "\n",
       "            weekofyears  \n",
       "date                     \n",
       "2018-09-27           38  \n",
       "2018-09-28           38  \n",
       "2018-10-01           39  \n",
       "2018-09-29           38  \n",
       "2018-10-03           39  "
      ]
     },
     "execution_count": 289,
     "metadata": {},
     "output_type": "execute_result"
    }
   ],
   "source": [
    "data.head()"
   ]
  },
  {
   "cell_type": "code",
   "execution_count": 290,
   "metadata": {},
   "outputs": [],
   "source": [
    "#missing value treatment\n",
    "cols = data.columns\n",
    "for j in cols:\n",
    "    for i in range(0,len(data)):\n",
    "       if(data[j][i] == -200):\n",
    "           data[j][i] = data[j][i-1]"
   ]
  },
  {
   "cell_type": "code",
   "execution_count": 291,
   "metadata": {},
   "outputs": [],
   "source": [
    "#checking stationarity\n",
    "from statsmodels.tsa.vector_ar.vecm import coint_johansen\n",
    "#since the test works for only 12 variables, I have randomly dropped\n",
    "#in the next iteration, I would drop another and check the eigenvalues\n",
    "#johan_test_temp = data.drop([ 'hour'], axis=1)\n",
    "#coint_johansen(data,-1,1).eig"
   ]
  },
  {
   "cell_type": "code",
   "execution_count": 292,
   "metadata": {},
   "outputs": [],
   "source": [
    "train = data[:int(0.8*(len(data)))]\n",
    "valid = data[int(0.8*(len(data))):]\n"
   ]
  },
  {
   "cell_type": "code",
   "execution_count": 293,
   "metadata": {},
   "outputs": [],
   "source": [
    "from statsmodels.tsa.vector_ar.var_model import VAR\n",
    "\n",
    "model = VAR(endog=train)\n",
    "model_fit = model.fit()\n"
   ]
  },
  {
   "cell_type": "code",
   "execution_count": 294,
   "metadata": {},
   "outputs": [],
   "source": [
    "# model_fit.summary()\n"
   ]
  },
  {
   "cell_type": "code",
   "execution_count": 295,
   "metadata": {},
   "outputs": [],
   "source": [
    "# make prediction on validation\n",
    "prediction = model_fit.forecast(model_fit.y, steps=len(valid))"
   ]
  },
  {
   "cell_type": "code",
   "execution_count": 296,
   "metadata": {},
   "outputs": [],
   "source": [
    "# prediction"
   ]
  },
  {
   "cell_type": "code",
   "execution_count": 297,
   "metadata": {},
   "outputs": [],
   "source": [
    "#converting predictions to dataframe\n",
    "pred = pd.DataFrame(index=range(0,len(prediction)),columns=[cols])\n"
   ]
  },
  {
   "cell_type": "code",
   "execution_count": 303,
   "metadata": {},
   "outputs": [],
   "source": [
    "for j in range(0,12):\n",
    "    for i in range(0, len(prediction)):\n",
    "       pred.iloc[i][j] = prediction[i][j]"
   ]
  },
  {
   "cell_type": "code",
   "execution_count": 304,
   "metadata": {},
   "outputs": [
    {
     "name": "stdout",
     "output_type": "stream",
     "text": [
      "rmse value for voltage is :  144.94998748957667\n",
      "rmse value for amp is :  6.016243572955134\n",
      "rmse value for pf is :  0.6892504657764593\n",
      "rmse value for consumption is :  1337.3195496624062\n",
      "rmse value for energy_timestamp is :  1551312088.2205489\n",
      "rmse value for frequency is :  36.21680697812826\n",
      "rmse value for dateofmonth is :  17.339742404853272\n",
      "rmse value for month is :  2.5260547066428276\n",
      "rmse value for year is :  2019.0\n",
      "rmse value for dayofweek is :  3.605551275463989\n",
      "rmse value for weekofmonths is :  3.3654911398256417\n",
      "rmse value for weekofyears is :  8.191168298554127\n"
     ]
    }
   ],
   "source": [
    "#check rmse\n",
    "import math\n",
    "from sklearn.metrics import mean_squared_error\n",
    "for i in cols:\n",
    "    print('rmse value for', i, 'is : ', math.sqrt(mean_squared_error(pred[i], valid[i])))"
   ]
  },
  {
   "cell_type": "code",
   "execution_count": null,
   "metadata": {},
   "outputs": [],
   "source": []
  },
  {
   "cell_type": "code",
   "execution_count": null,
   "metadata": {},
   "outputs": [],
   "source": []
  },
  {
   "cell_type": "code",
   "execution_count": null,
   "metadata": {},
   "outputs": [],
   "source": []
  }
 ],
 "metadata": {
  "kernelspec": {
   "display_name": "Python 3",
   "language": "python",
   "name": "python3"
  },
  "language_info": {
   "codemirror_mode": {
    "name": "ipython",
    "version": 3
   },
   "file_extension": ".py",
   "mimetype": "text/x-python",
   "name": "python",
   "nbconvert_exporter": "python",
   "pygments_lexer": "ipython3",
   "version": "3.6.7"
  }
 },
 "nbformat": 4,
 "nbformat_minor": 2
}
